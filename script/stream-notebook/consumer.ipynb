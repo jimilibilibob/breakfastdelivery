{
 "cells": [
  {
   "cell_type": "code",
   "execution_count": null,
   "metadata": {
    "tags": []
   },
   "outputs": [],
   "source": [
    "pip install -r requirement.txt"
   ]
  },
  {
   "cell_type": "code",
   "execution_count": null,
   "metadata": {},
   "outputs": [],
   "source": [
    "import json\n",
    "from kafka import KafkaConsumer\n",
    "import sys, getopt\n",
    "import pymongo\n",
    "from elasticsearch import Elasticsearch\n",
    "from elasticsearch import helpers"
   ]
  },
  {
   "cell_type": "code",
   "execution_count": null,
   "metadata": {},
   "outputs": [],
   "source": [
    "from config import *"
   ]
  },
  {
   "cell_type": "code",
   "execution_count": null,
   "metadata": {
    "tags": []
   },
   "outputs": [],
   "source": [
    "# Create index if not exist\n",
    "es = Elasticsearch(config[\"elasticsearch_uri\"])\n",
    "es.indices.create(index=config[\"topic\"], ignore=[400])\n",
    "es.indices.put_mapping(\n",
    "    index=config[\"topic\"],\n",
    "    body={\n",
    "        \"properties\": {\n",
    "            \"cart\": {\n",
    "                \"properties\": {\n",
    "                    \"articles\": {\n",
    "                        \"type\": \"nested\",\n",
    "                        \"properties\": {\n",
    "                            \"label\": { \n",
    "                                \"type\": \"keyword\" \n",
    "                            },\n",
    "                            \"quantite\": { \n",
    "                                \"type\": \"integer\" \n",
    "                            },\n",
    "                            \"prix_unitaire\": { \n",
    "                                \"type\": \"float\" \n",
    "                            },\n",
    "                        }\n",
    "                    },\n",
    "                    \"prix_total\": {\n",
    "                        \"type\": \"integer\"\n",
    "                    },\n",
    "                    \"nombre_article\": {\n",
    "                        \"type\": \"integer\"\n",
    "                    }\n",
    "                }\n",
    "            },\n",
    "            \"client\": {\n",
    "                \"properties\": {\n",
    "                    \"recordid\": {\n",
    "                        \"type\": \"text\"\n",
    "                    },\n",
    "                    \"fields\": {\n",
    "                        \"properties\": {\n",
    "                            \"l_adr\": {\n",
    "                                \"type\": \"keyword\"\n",
    "                            },\n",
    "                            \"c_ar\": {\n",
    "                                \"type\": \"integer\"\n",
    "                            }\n",
    "                        }\n",
    "                    },\n",
    "                    \"geometry\": {\n",
    "                        \"properties\": {\n",
    "                            \"type\": {\n",
    "                                \"type\": \"text\"\n",
    "                            },\n",
    "                            \"coordinates\": {\n",
    "                                \"type\": \"geo_point\"\n",
    "                            }\n",
    "                        }\n",
    "                    }\n",
    "                }\n",
    "            },\n",
    "            \"datetime\": {\n",
    "                \"type\": \"date\",\n",
    "                \"format\": \"strict_date_optional_time\"\n",
    "            }\n",
    "        }\n",
    "    }\n",
    ")"
   ]
  },
  {
   "cell_type": "code",
   "execution_count": null,
   "metadata": {
    "collapsed": true,
    "jupyter": {
     "outputs_hidden": true
    },
    "tags": []
   },
   "outputs": [],
   "source": [
    "# Consume topic and upload Data on the index\n",
    "consumer = KafkaConsumer(config[\"topic\"], bootstrap_servers=config[\"kafka_uri\"])\n",
    "es = Elasticsearch(config[\"elasticsearch_uri\"])\n",
    "for message in consumer:\n",
    "    order = json.loads(message.value.decode())\n",
    "    print(\"Order : \")\n",
    "    print(order)\n",
    "    print(\"--------------------\")\n",
    "    es.index(config[\"topic\"],order)"
   ]
  },
  {
   "cell_type": "code",
   "execution_count": null,
   "metadata": {},
   "outputs": [],
   "source": [
    "# Delete Index\n",
    "# es = Elasticsearch(config[\"elasticsearch_uri\"])\n",
    "# es.indices.delete(index=config[\"topic\"], ignore=[400])"
   ]
  }
 ],
 "metadata": {
  "kernelspec": {
   "display_name": "Python 3 (ipykernel)",
   "language": "python",
   "name": "python3"
  },
  "language_info": {
   "codemirror_mode": {
    "name": "ipython",
    "version": 3
   },
   "file_extension": ".py",
   "mimetype": "text/x-python",
   "name": "python",
   "nbconvert_exporter": "python",
   "pygments_lexer": "ipython3",
   "version": "3.8.10 (default, Nov 14 2022, 12:59:47) \n[GCC 9.4.0]"
  },
  "vscode": {
   "interpreter": {
    "hash": "916dbcbb3f70747c44a77c7bcd40155683ae19c65e1c03b4aa3499c5328201f1"
   }
  }
 },
 "nbformat": 4,
 "nbformat_minor": 4
}
