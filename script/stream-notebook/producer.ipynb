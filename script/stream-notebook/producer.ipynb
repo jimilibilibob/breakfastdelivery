{
 "cells": [
  {
   "cell_type": "code",
   "execution_count": null,
   "metadata": {},
   "outputs": [],
   "source": [
    "pip install -r requirement.txt"
   ]
  },
  {
   "cell_type": "code",
   "execution_count": null,
   "metadata": {},
   "outputs": [],
   "source": [
    "import random\n",
    "import pymongo\n",
    "import time \n",
    "from datetime import datetime\n",
    "import sys, getopt\n",
    "import math\n",
    "from kafka import KafkaProducer\n",
    "import json"
   ]
  },
  {
   "cell_type": "code",
   "execution_count": null,
   "metadata": {},
   "outputs": [],
   "source": [
    "# Create a cart\n",
    "def gen_cart():\n",
    "    articles = [\n",
    "        {\"label\" :\"pain au chocolat\", \"quantite\":0, \"prix_unitaire\":1.30 },\n",
    "        {\"label\" :\"croissant\", \"quantite\":0, \"prix_unitaire\":1.15 },\n",
    "        {\"label\" :\"crêpe\", \"quantite\":0, \"prix_unitaire\":1.0 },\n",
    "        {\"label\" :\"baguette\", \"quantite\":0, \"prix_unitaire\":1.0 },\n",
    "        {\"label\" :\"demi-baguette\", \"quantite\":0, \"prix_unitaire\":0.6 },\n",
    "        {\"label\" :\"brioche\", \"quantite\":0, \"prix_unitaire\":1.4 },\n",
    "        {\"label\" :\"pain aux raisins\", \"quantite\":0, \"prix_unitaire\":1.35 },\n",
    "        {\"label\" :\"chausson aux pommes\", \"quantite\":0, \"prix_unitaire\":1.35 },\n",
    "        {\"label\" :\"lait\", \"quantite\":0, \"prix_unitaire\":1.5 },\n",
    "        {\"label\" :\"café\", \"quantite\":0, \"prix_unitaire\":2.0 },\n",
    "        {\"label\" :\"eau\", \"quantite\":0, \"prix_unitaire\":1.0 },\n",
    "        {\"label\" :\"jus de pomme\", \"quantite\":0, \"prix_unitaire\":1.6 },\n",
    "        {\"label\" :\"jus d'orange\", \"quantite\":0, \"prix_unitaire\":1.8 },\n",
    "    ]\n",
    "    cart = {}\n",
    "    cart[\"articles\"] = []\n",
    "    prix_total=0\n",
    "    count_article=0\n",
    "    # Number of different articles in the cart \n",
    "    nb_article = int(abs(random.gauss(0,1.8)//1)+1)\n",
    "    for i in range(0,nb_article):\n",
    "        index_article = random.randrange(0,len(articles))\n",
    "        article = articles[index_article]\n",
    "        articles.pop(index_article)\n",
    "        # Quantity of \"this\" article \n",
    "        qte_article = abs(random.gauss(0,0.8)//1)+1\n",
    "        article[\"quantite\"] = qte_article\n",
    "        prix_total+= qte_article*article[\"prix_unitaire\"]\n",
    "        count_article+= qte_article\n",
    "        cart[\"articles\"].append(article)\n",
    "    cart[\"prix_total\"]=float(prix_total)\n",
    "    cart[\"nombre_article\"]=int(count_article)\n",
    "    return cart"
   ]
  },
  {
   "cell_type": "code",
   "execution_count": null,
   "metadata": {},
   "outputs": [],
   "source": [
    "# Get a Random client from https://opendata.paris.fr/explore/dataset/adresse_paris/information/\n",
    "def get_clients(db):\n",
    "    projection = { \"recordid\": 1, \"geometry\": 1, \"fields.l_adr\": 1, \"fields.c_ar\": 1, \"_id\":0 } \n",
    "    clients=[]\n",
    "    cur=db.clients.find({}, projection)\n",
    "    for doc in cur:\n",
    "        clients.append(doc)\n",
    "    return clients"
   ]
  },
  {
   "cell_type": "code",
   "execution_count": null,
   "metadata": {},
   "outputs": [],
   "source": [
    "# Create an order, with a cart, a client and a datetime\n",
    "def gen_order(order_time, clients):\n",
    "    client=clients[random.randrange(0,len(clients))]\n",
    "    return {\n",
    "        \"cart\": gen_cart(),\n",
    "        \"client\": client,\n",
    "        \"datetime\": datetime.fromtimestamp(order_time).strftime(\"%Y-%m-%dT%H:%M:%S+00:00\") \n",
    "    }"
   ]
  },
  {
   "cell_type": "code",
   "execution_count": null,
   "metadata": {},
   "outputs": [],
   "source": [
    "gen_order(order_time, clients):\n",
    "    client=clients[random.randrange(0,len(clients))]\n",
    "    return {\n",
    "        \"cart\": gen_cart(),\n",
    "        \"client\": client,\n",
    "        \"datetime\": datetime.fromtimestamp(order_time).strftime(\"%Y-%m-%dT%H:%M:%S+00:00\") \n",
    "    }"
   ]
  },
  {
   "cell_type": "code",
   "execution_count": null,
   "metadata": {},
   "outputs": [],
   "source": [
    "# Create a fake streaming data source \n",
    "def fake_stream(max_time, db, producer, topic):\n",
    "    clients=get_clients(db)\n",
    "    while True: \n",
    "        order_time = time.time()// 1\n",
    "        wait_time=abs(random.gauss(0,max_time))\n",
    "        order=gen_order(order_time,clients)\n",
    "        # db.orders.insert_one(order)\n",
    "        print(\"Order : \")\n",
    "        print(order)\n",
    "        producer.send(topic, json.dumps(order).encode())\n",
    "        print(\"--------------------\")\n",
    "        print(\"Next order in (sec) : \" + str(wait_time))\n",
    "        time.sleep(wait_time)"
   ]
  },
  {
   "cell_type": "code",
   "execution_count": null,
   "metadata": {},
   "outputs": [],
   "source": [
    "from config import *"
   ]
  },
  {
   "cell_type": "code",
   "execution_count": null,
   "metadata": {},
   "outputs": [],
   "source": [
    "db = pymongo.MongoClient(host=config[\"mongo_uri\"]).breakfastdelivery\n",
    "producer = KafkaProducer(bootstrap_servers=config[\"kafka_uri\"])\n",
    "fake_stream(config[\"median_time\"], db, producer, config[\"topic\"])"
   ]
  }
 ],
 "metadata": {
  "kernelspec": {
   "display_name": "Python 3 (ipykernel)",
   "language": "python",
   "name": "python3"
  },
  "language_info": {
   "codemirror_mode": {
    "name": "ipython",
    "version": 3
   },
   "file_extension": ".py",
   "mimetype": "text/x-python",
   "name": "python",
   "nbconvert_exporter": "python",
   "pygments_lexer": "ipython3",
   "version": "3.8.10 (default, Nov 14 2022, 12:59:47) \n[GCC 9.4.0]"
  },
  "vscode": {
   "interpreter": {
    "hash": "916dbcbb3f70747c44a77c7bcd40155683ae19c65e1c03b4aa3499c5328201f1"
   }
  }
 },
 "nbformat": 4,
 "nbformat_minor": 4
}
