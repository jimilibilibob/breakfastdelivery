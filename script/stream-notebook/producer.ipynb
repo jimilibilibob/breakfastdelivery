{
 "cells": [
  {
   "cell_type": "code",
   "execution_count": 1,
   "metadata": {},
   "outputs": [
    {
     "name": "stdout",
     "output_type": "stream",
     "text": [
      "Requirement already satisfied: elasticsearch in /opt/conda/lib/python3.10/site-packages (from -r requirement.txt (line 1)) (8.4.2)\n",
      "Requirement already satisfied: pymongo in /opt/conda/lib/python3.10/site-packages (from -r requirement.txt (line 2)) (4.2.0)\n",
      "Requirement already satisfied: kafka-python in /opt/conda/lib/python3.10/site-packages (from -r requirement.txt (line 3)) (2.0.2)\n",
      "Requirement already satisfied: dnspython in /opt/conda/lib/python3.10/site-packages (from -r requirement.txt (line 4)) (2.2.1)\n",
      "Requirement already satisfied: confluent-kafka in /opt/conda/lib/python3.10/site-packages (from -r requirement.txt (line 5)) (1.9.2)\n",
      "Requirement already satisfied: elastic-transport<9,>=8 in /opt/conda/lib/python3.10/site-packages (from elasticsearch->-r requirement.txt (line 1)) (8.4.0)\n",
      "Requirement already satisfied: urllib3<2,>=1.26.2 in /opt/conda/lib/python3.10/site-packages (from elastic-transport<9,>=8->elasticsearch->-r requirement.txt (line 1)) (1.26.9)\n",
      "Requirement already satisfied: certifi in /opt/conda/lib/python3.10/site-packages (from elastic-transport<9,>=8->elasticsearch->-r requirement.txt (line 1)) (2022.6.15)\n",
      "Note: you may need to restart the kernel to use updated packages.\n"
     ]
    }
   ],
   "source": [
    "pip install -r requirement.txt"
   ]
  },
  {
   "cell_type": "code",
   "execution_count": 1,
   "metadata": {},
   "outputs": [],
   "source": [
    "import random\n",
    "import pymongo\n",
    "import time \n",
    "from datetime import datetime\n",
    "import sys, getopt\n",
    "import math\n",
    "from kafka import KafkaProducer\n",
    "import json\n"
   ]
  },
  {
   "cell_type": "code",
   "execution_count": 2,
   "metadata": {},
   "outputs": [],
   "source": [
    "# Create a cart\n",
    "def gen_cart():\n",
    "    articles = [\n",
    "        {\"label\" :\"pain au chocolat\", \"quantite\":0, \"prix_unitaire\":1.30 },\n",
    "        {\"label\" :\"croissant\", \"quantite\":0, \"prix_unitaire\":1.15 },\n",
    "        {\"label\" :\"crêpe\", \"quantite\":0, \"prix_unitaire\":1.0 },\n",
    "        {\"label\" :\"baguette\", \"quantite\":0, \"prix_unitaire\":1.0 },\n",
    "        {\"label\" :\"demi-baguette\", \"quantite\":0, \"prix_unitaire\":0.6 },\n",
    "        {\"label\" :\"brioche\", \"quantite\":0, \"prix_unitaire\":1.4 },\n",
    "        {\"label\" :\"pain aux raisins\", \"quantite\":0, \"prix_unitaire\":1.35 },\n",
    "        {\"label\" :\"Chausson aux pommes\", \"quantite\":0, \"prix_unitaire\":1.35 },\n",
    "        {\"label\" :\"lait\", \"quantite\":0, \"prix_unitaire\":1.5 },\n",
    "        {\"label\" :\"café\", \"quantite\":0, \"prix_unitaire\":2.0 },\n",
    "        {\"label\" :\"eau\", \"quantite\":0, \"prix_unitaire\":1.0 },\n",
    "        {\"label\" :\"jus de pomme\", \"quantite\":0, \"prix_unitaire\":1.6 },\n",
    "        {\"label\" :\"jus d'orange\", \"quantite\":0, \"prix_unitaire\":1.8 },\n",
    "    ]\n",
    "    cart = {}\n",
    "    cart[\"articles\"] = []\n",
    "    prix_total=0\n",
    "    count_article=0\n",
    "    # Number of different articles in the cart \n",
    "    nb_article = int(abs(random.gauss(0,1.8)//1)+1)\n",
    "    for i in range(0,nb_article):\n",
    "        index_article = random.randrange(0,len(articles))\n",
    "        article = articles[index_article]\n",
    "        articles.pop(index_article)\n",
    "        # Quantity of \"this\" article \n",
    "        qte_article = abs(random.gauss(0,0.8)//1)+1\n",
    "        article[\"quantite\"] = qte_article\n",
    "        prix_total+= qte_article*article[\"prix_unitaire\"]\n",
    "        count_article+= qte_article\n",
    "        cart[\"articles\"].append(article)\n",
    "    cart[\"prix_total\"]=float(prix_total)\n",
    "    cart[\"nombre_article\"]=int(count_article)\n",
    "    return cart"
   ]
  },
  {
   "cell_type": "code",
   "execution_count": 3,
   "metadata": {},
   "outputs": [],
   "source": [
    "# Get a Random client from https://opendata.paris.fr/explore/dataset/adresse_paris/information/\n",
    "def get_clients(db):\n",
    "    projection = { \"recordid\": 1, \"geometry\": 1, \"fields.l_adr\": 1, \"fields.c_ar\": 1, \"_id\":0 } \n",
    "    clients=[]\n",
    "    cur=db.clients.find({}, projection)\n",
    "    for doc in cur:\n",
    "        clients.append(doc)\n",
    "    return clients"
   ]
  },
  {
   "cell_type": "code",
   "execution_count": 4,
   "metadata": {},
   "outputs": [],
   "source": [
    "# Create an order, with a cart, a client and a datetime\n",
    "def gen_order(order_time, clients):\n",
    "    client=clients[random.randrange(0,len(clients))]\n",
    "    return {\n",
    "        \"cart\": gen_cart(),\n",
    "        \"client\": client,\n",
    "        \"datetime\": datetime.fromtimestamp(order_time).strftime(\"%Y-%m-%dT%H:%M:%S+00:00\") \n",
    "    }"
   ]
  },
  {
   "cell_type": "code",
   "execution_count": 5,
   "metadata": {},
   "outputs": [],
   "source": [
    "# Create a fake streaming data source \n",
    "def fake_stream(max_time, db, producer, topic):\n",
    "    clients=get_clients(db)\n",
    "    while True: \n",
    "        order_time = time.time()// 1\n",
    "        wait_time=abs(random.gauss(0,max_time))\n",
    "        order=gen_order(order_time,clients)\n",
    "        # db.orders.insert_one(order)\n",
    "        print(\"Order : \")\n",
    "        print(order)\n",
    "        producer.send(topic, json.dumps(order).encode())\n",
    "        print(\"--------------------\")\n",
    "        print(\"Next order in (sec) : \" + str(wait_time))\n",
    "        time.sleep(wait_time)"
   ]
  },
  {
   "cell_type": "code",
   "execution_count": 7,
   "metadata": {},
   "outputs": [],
   "source": [
    "from config import *"
   ]
  },
  {
   "cell_type": "code",
   "execution_count": 8,
   "metadata": {},
   "outputs": [
    {
     "name": "stdout",
     "output_type": "stream",
     "text": [
      "Order : \n",
      "{'cart': {'articles': [{'label': 'baguette', 'quantite': 2.0, 'prix_unitaire': 1.0}, {'label': 'crêpe', 'quantite': 2.0, 'prix_unitaire': 1.0}], 'prix_total': 4.0, 'nombre_article': 4}, 'client': {'recordid': '9a3bed7a12d9de63b857925bcfe5c7b0996ec778', 'fields': {'l_adr': '27Z2 RUE MARGUERITE LONG', 'c_ar': 17}, 'geometry': {'type': 'Point', 'coordinates': [2.30316935739, 48.8921520985]}}, 'datetime': '2022-10-03T19:58:35+00:00'}\n",
      "--------------------\n",
      "Next order in (sec) : 6.822282752211057\n",
      "Order : \n",
      "{'cart': {'articles': [{'label': 'crêpe', 'quantite': 3.0, 'prix_unitaire': 1.0}, {'label': 'baguette', 'quantite': 1.0, 'prix_unitaire': 1.0}, {'label': 'brioche', 'quantite': 1.0, 'prix_unitaire': 1.4}, {'label': 'pain aux raisins', 'quantite': 1.0, 'prix_unitaire': 1.35}], 'prix_total': 6.75, 'nombre_article': 6}, 'client': {'recordid': '1f983537335126e3b5f3985fa2ffa87e82ddcca8', 'fields': {'l_adr': '230 RUE DE LA CROIX NIVERT', 'c_ar': 15}, 'geometry': {'type': 'Point', 'coordinates': [2.28964347121, 48.8354431565]}}, 'datetime': '2022-10-03T19:58:42+00:00'}\n",
      "--------------------\n",
      "Next order in (sec) : 12.26492858405672\n"
     ]
    },
    {
     "ename": "KeyboardInterrupt",
     "evalue": "",
     "output_type": "error",
     "traceback": [
      "\u001b[0;31m---------------------------------------------------------------------------\u001b[0m",
      "\u001b[0;31mKeyboardInterrupt\u001b[0m                         Traceback (most recent call last)",
      "Cell \u001b[0;32mIn [8], line 3\u001b[0m\n\u001b[1;32m      1\u001b[0m db \u001b[38;5;241m=\u001b[39m pymongo\u001b[38;5;241m.\u001b[39mMongoClient(host\u001b[38;5;241m=\u001b[39mconfig[\u001b[38;5;124m\"\u001b[39m\u001b[38;5;124mmongo_uri\u001b[39m\u001b[38;5;124m\"\u001b[39m])\u001b[38;5;241m.\u001b[39mbreakfastdelivery\n\u001b[1;32m      2\u001b[0m producer \u001b[38;5;241m=\u001b[39m KafkaProducer(bootstrap_servers\u001b[38;5;241m=\u001b[39mconfig[\u001b[38;5;124m\"\u001b[39m\u001b[38;5;124mkafka_uri\u001b[39m\u001b[38;5;124m\"\u001b[39m])\n\u001b[0;32m----> 3\u001b[0m fake_stream(median_time, db, producer, config[\u001b[38;5;124m\"\u001b[39m\u001b[38;5;124mtopic\u001b[39m\u001b[38;5;124m\"\u001b[39m])\n",
      "Cell \u001b[0;32mIn [5], line 14\u001b[0m, in \u001b[0;36mfake_stream\u001b[0;34m(max_time, db, producer, topic)\u001b[0m\n\u001b[1;32m     12\u001b[0m \u001b[38;5;28mprint\u001b[39m(\u001b[38;5;124m\"\u001b[39m\u001b[38;5;124m--------------------\u001b[39m\u001b[38;5;124m\"\u001b[39m)\n\u001b[1;32m     13\u001b[0m \u001b[38;5;28mprint\u001b[39m(\u001b[38;5;124m\"\u001b[39m\u001b[38;5;124mNext order in (sec) : \u001b[39m\u001b[38;5;124m\"\u001b[39m \u001b[38;5;241m+\u001b[39m \u001b[38;5;28mstr\u001b[39m(wait_time))\n\u001b[0;32m---> 14\u001b[0m \u001b[43mtime\u001b[49m\u001b[38;5;241;43m.\u001b[39;49m\u001b[43msleep\u001b[49m\u001b[43m(\u001b[49m\u001b[43mwait_time\u001b[49m\u001b[43m)\u001b[49m\n",
      "\u001b[0;31mKeyboardInterrupt\u001b[0m: "
     ]
    }
   ],
   "source": [
    "db = pymongo.MongoClient(host=config[\"mongo_uri\"]).breakfastdelivery\n",
    "producer = KafkaProducer(bootstrap_servers=config[\"kafka_uri\"])\n",
    "fake_stream(median_time, db, producer, config[\"topic\"])"
   ]
  }
 ],
 "metadata": {
  "kernelspec": {
   "display_name": "Python 3 (ipykernel)",
   "language": "python",
   "name": "python3"
  },
  "language_info": {
   "codemirror_mode": {
    "name": "ipython",
    "version": 3
   },
   "file_extension": ".py",
   "mimetype": "text/x-python",
   "name": "python",
   "nbconvert_exporter": "python",
   "pygments_lexer": "ipython3",
   "version": "3.8.10"
  },
  "vscode": {
   "interpreter": {
    "hash": "916dbcbb3f70747c44a77c7bcd40155683ae19c65e1c03b4aa3499c5328201f1"
   }
  }
 },
 "nbformat": 4,
 "nbformat_minor": 4
}
